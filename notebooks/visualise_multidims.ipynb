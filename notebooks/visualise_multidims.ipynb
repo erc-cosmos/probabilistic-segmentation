{
 "cells": [
  {
   "cell_type": "code",
   "execution_count": null,
   "metadata": {},
   "outputs": [],
   "source": [
    "from readers import *\n",
    "import matplotlib.pyplot as plt\n",
    "import numpy as np\n",
    "\n",
    "from singleArc import *"
   ]
  }
 ],
 "metadata": {
  "interpreter": {
   "hash": "3ed76a5abdc9632801aa97d686d9089ed24136b8f7c2ef690bd6237f9b091f88"
  },
  "kernelspec": {
   "display_name": "Python 3.8.2 64-bit ('.venv': venv)",
   "name": "python3"
  },
  "language_info": {
   "name": "python",
   "version": "3.8.2"
  },
  "orig_nbformat": 4
 },
 "nbformat": 4,
 "nbformat_minor": 2
}
