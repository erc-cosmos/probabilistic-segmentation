{
 "cells": [
  {
   "cell_type": "code",
   "execution_count": null,
   "source": [
    "from readers import *\n",
    "import matplotlib.pyplot as plt\n",
    "import numpy as np\n",
    "\n",
    "from singleArc import *"
   ],
   "outputs": [],
   "metadata": {}
  },
  {
   "cell_type": "code",
   "execution_count": null,
   "source": [
    "timingsData = readAllMazurkaTimingsAndSeg(timingPath=\"data/beat_time\",segPath=\"data/deaf_structure_tempo\")\n",
    "dynData = readAllMazurkaDataAndSeg(timingPath=\"data/beat_dyn\", segPath=\"data/deaf_structure_loudness\")"
   ],
   "outputs": [],
   "metadata": {}
  },
  {
   "cell_type": "code",
   "execution_count": null,
   "source": [
    "scores = []\n",
    "for (piece, interpret, tempo, tempoSeg) in timingsData:\n",
    "    for (piece2, interpret2, dyn, dynSeg) in dynData:\n",
    "        if interpret == interpret2 :\n",
    "            print(interpret)\n",
    "            tempoY = []\n",
    "            dynY = []\n",
    "            tempoML = []\n",
    "            dynML = []\n",
    "            tempoLengths = []\n",
    "            dynLengths = []\n",
    "            for (sscurr,ssnext) in zip([0,*tempoSeg],tempoSeg[:]):\n",
    "                data = normalizeX(tempo[(sscurr+1):ssnext+1])\n",
    "                tempoML.append(arcML(data))\n",
    "                tempoLengths.append(ssnext-sscurr)\n",
    "                tempoY.extend([tempoML[-1][0]*x*x + tempoML[-1][1]*x + tempoML[-1][2] for (x,_) in data])\n",
    "            for (sscurr,ssnext) in zip([0, *dynSeg],dynSeg[:]):\n",
    "                data = normalizeX(dyn[(sscurr+1):ssnext+1])\n",
    "                dynML.append(arcML(data))\n",
    "                dynLengths.append(ssnext-sscurr)\n",
    "                dynY.extend([dynML[-1][0]*x*x + dynML[-1][1]*x + dynML[-1][2] for (x,_) in data])\n",
    "            fig = plt.figure()\n",
    "            plt.plot(tempo, color = \"r\")\n",
    "            plt.plot(tempoY, color = \"r\", linestyle='dashed')\n",
    "            plt.vlines(tempoSeg, ymin=np.min(tempo), ymax=np.max(tempo), colors=\"r\", linestyle='dotted')\n",
    "            ax = plt.twinx()\n",
    "            ax.plot(dyn, color = \"b\")\n",
    "            ax.plot(dynY, color = \"b\", linestyle='dashed')\n",
    "            ax.vlines(dynSeg, ymin=np.min(dyn), ymax=np.max(dyn), colors=\"b\", linestyle='dotted')\n",
    "            plt.show()\n",
    "            plt.close(fig)"
   ],
   "outputs": [],
   "metadata": {}
  }
 ],
 "metadata": {
  "orig_nbformat": 4,
  "language_info": {
   "name": "python"
  }
 },
 "nbformat": 4,
 "nbformat_minor": 2
}