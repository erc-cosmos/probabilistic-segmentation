{
 "cells": [
  {
   "cell_type": "code",
   "execution_count": null,
   "metadata": {},
   "outputs": [],
   "source": [
    "import matplotlib.pyplot as plt\n",
    "import pandas as pd\n",
    "import dynamic_computation as dc\n",
    "import length_priors\n",
    "import numpy as np\n",
    "import scipy as sp\n",
    "import scipy.signal\n",
    "import segment_viz\n",
    "%matplotlib widget"
   ]
  },
  {
   "cell_type": "code",
   "execution_count": null,
   "metadata": {},
   "outputs": [],
   "source": [
    "in_data = pd.read_csv('/Users/guichaoua 1/Nextcloud/Cardiac_response_to_live_music/Updated features/full_ARIs/2018_05_22_P1.csv')"
   ]
  },
  {
   "cell_type": "code",
   "execution_count": null,
   "metadata": {},
   "outputs": [],
   "source": [
    "plt.plot(in_data.time, in_data.ARI)\n",
    "plt.show()"
   ]
  },
  {
   "cell_type": "markdown",
   "metadata": {},
   "source": [
    "# First try"
   ]
  },
  {
   "cell_type": "code",
   "execution_count": null,
   "metadata": {},
   "outputs": [],
   "source": [
    "lengthPrior = length_priors.EmpiricalLengthPrior(range(5, 120), len(in_data.ARI))"
   ]
  },
  {
   "cell_type": "code",
   "execution_count": null,
   "metadata": {},
   "outputs": [],
   "source": [
    "\n",
    "def make_geo_dist(min_len, max_len, ratio):\n",
    "    unscaled = [ratio**i for i in range(max_len-min_len)]\n",
    "    factor = sum(unscaled)\n",
    "    return {i:p/factor for i, p in zip(range(min_len, max_len), unscaled)}\n",
    "\n",
    "\n",
    "lengthPrior = length_priors.DiscreteLengthPrior(len(in_data.ARI), make_geo_dist(5, 60, .8), 60)"
   ]
  },
  {
   "cell_type": "code",
   "execution_count": null,
   "metadata": {},
   "outputs": [],
   "source": [
    "est_noise = np.std(np.diff(in_data.ARI))/2"
   ]
  },
  {
   "cell_type": "code",
   "execution_count": null,
   "metadata": {},
   "outputs": [],
   "source": [
    "arcPrior = {\n",
    "    # Gaussian priors on the parameters of ax^2 + bx + c\n",
    "    'aMean': 0,\n",
    "    'aStd': 00,\n",
    "    'bMean': 00,\n",
    "    'bStd': 00,\n",
    "    'cMean': 330,\n",
    "    'cStd': 15,\n",
    "    'noiseStd': est_noise\n",
    "}"
   ]
  },
  {
   "cell_type": "code",
   "execution_count": null,
   "metadata": {},
   "outputs": [],
   "source": [
    "post, post_bidim = dc.runAlphaBeta(in_data.ARI, arcPrior, lengthPrior, return2D=True)"
   ]
  },
  {
   "cell_type": "code",
   "execution_count": null,
   "metadata": {},
   "outputs": [],
   "source": [
    "f=segment_viz.plot_segment_with_signal(post, in_data.ARI, in_data.time, data_color='y', boundaries=in_data.time[post>.5])"
   ]
  },
  {
   "cell_type": "markdown",
   "metadata": {},
   "source": [
    "Let's plot only the strong boundaries"
   ]
  },
  {
   "cell_type": "code",
   "execution_count": null,
   "metadata": {},
   "outputs": [],
   "source": [
    "fig=plt.figure(figsize=(12,8), dpi= 100)\n",
    "\n",
    "plt.plot(in_data.time[:len(post)], in_data.ARI[:len(post)],'r')\n",
    "# plt.xlim((0,500))\n",
    "ax2 = plt.twinx()\n",
    "\n",
    "high_post = post>.5\n",
    "ax2.vlines(in_data.time[high_post],0,1)\n",
    "plt.show()"
   ]
  },
  {
   "cell_type": "code",
   "execution_count": null,
   "metadata": {},
   "outputs": [],
   "source": []
  },
  {
   "cell_type": "markdown",
   "metadata": {},
   "source": [
    "# Try 2D plots"
   ]
  },
  {
   "cell_type": "code",
   "execution_count": null,
   "metadata": {},
   "outputs": [],
   "source": [
    "smoothed = sp.signal.convolve2d(post_bidim, np.ones((5,5)), mode=\"same\")\n",
    "for i in range(np.shape(smoothed)[0]):\n",
    "    smoothed[i,i]=1"
   ]
  },
  {
   "cell_type": "code",
   "execution_count": null,
   "metadata": {},
   "outputs": [],
   "source": [
    "fig=plt.figure(figsize=(12,8), dpi= 100)\n",
    "\n",
    "plt.imshow(smoothed)\n",
    "plt.colorbar()\n",
    "\n",
    "plt.show()"
   ]
  },
  {
   "cell_type": "markdown",
   "metadata": {},
   "source": [
    "# Do it again with other settings"
   ]
  },
  {
   "cell_type": "markdown",
   "metadata": {},
   "source": [
    "We use a Uniform Prior $U([10,90])$"
   ]
  },
  {
   "cell_type": "code",
   "execution_count": null,
   "metadata": {},
   "outputs": [],
   "source": [
    "lengthPrior = length_priors.EmpiricalLengthPrior(range(10, 90), len(in_data.ARI))"
   ]
  },
  {
   "cell_type": "code",
   "execution_count": null,
   "metadata": {},
   "outputs": [],
   "source": [
    "est_noise = np.std(np.diff(in_data.ARI)/2)"
   ]
  },
  {
   "cell_type": "code",
   "execution_count": null,
   "metadata": {},
   "outputs": [],
   "source": [
    "arcPrior = {\n",
    "    # Gaussian priors on the parameters of ax^2 + bx + c\n",
    "    'aMean': 0,\n",
    "    'aStd': 00,\n",
    "    'bMean': 00,\n",
    "    'bStd': 00,\n",
    "    'cMean': 330,\n",
    "    'cStd': 15,\n",
    "    'noiseStd': est_noise\n",
    "}"
   ]
  },
  {
   "cell_type": "code",
   "execution_count": null,
   "metadata": {},
   "outputs": [],
   "source": [
    "post2, post2_bidim = dc.runAlphaBeta(in_data.ARI, arcPrior, lengthPrior, return2D=True)"
   ]
  },
  {
   "cell_type": "code",
   "execution_count": null,
   "metadata": {},
   "outputs": [],
   "source": [
    "fig=plt.figure(figsize=(12,8), dpi= 100)\n",
    "\n",
    "plt.plot(in_data.time[:len(post)], in_data.ARI[:len(post)],'r')\n",
    "# plt.xlim((500,1000))\n",
    "ax2 = plt.twinx()\n",
    "\n",
    "# ax2.plot(in_data.time[:len(post)],post)\n",
    "post2_smoothed = np.convolve([1,1,1,1,1],post2,mode='same')\n",
    "\n",
    "ax2.plot(in_data.time,post2_smoothed)\n",
    "plt.show()"
   ]
  },
  {
   "cell_type": "markdown",
   "metadata": {},
   "source": [
    "Let's plot only the strong boundaries"
   ]
  },
  {
   "cell_type": "code",
   "execution_count": null,
   "metadata": {},
   "outputs": [],
   "source": [
    "fig=plt.figure(figsize=(12,8), dpi= 100)\n",
    "\n",
    "plt.plot(in_data.time[:len(post)], in_data.ARI[:len(post)],'r')\n",
    "# plt.xlim((0,500))\n",
    "ax2 = plt.twinx()\n",
    "\n",
    "high_post = post2_smoothed>.5\n",
    "ax2.vlines(in_data.time[high_post],0,1)\n",
    "plt.show()"
   ]
  },
  {
   "cell_type": "code",
   "execution_count": null,
   "metadata": {},
   "outputs": [],
   "source": [
    "sum(post2)\n",
    "\n"
   ]
  },
  {
   "cell_type": "code",
   "execution_count": null,
   "metadata": {},
   "outputs": [],
   "source": [
    "sum(post)"
   ]
  },
  {
   "cell_type": "code",
   "execution_count": null,
   "metadata": {},
   "outputs": [],
   "source": [
    "import scipy.stats\n",
    "\n",
    "pdf = scipy.stats.norm.pdf([0.3,0.4,-1])\n",
    "pdf"
   ]
  },
  {
   "cell_type": "markdown",
   "metadata": {},
   "source": [
    "# Try 2D plots"
   ]
  },
  {
   "cell_type": "code",
   "execution_count": null,
   "metadata": {},
   "outputs": [],
   "source": []
  },
  {
   "cell_type": "code",
   "execution_count": null,
   "metadata": {},
   "outputs": [],
   "source": [
    "segment_viz.plot_segment_matrix(post2_bidim, smoothing=5)"
   ]
  },
  {
   "cell_type": "code",
   "execution_count": null,
   "metadata": {},
   "outputs": [],
   "source": [
    "smoothed2 = sp.signal.convolve2d(post2_bidim, np.ones((5,5)), mode=\"same\")\n",
    "for i in range(np.shape(smoothed2)[0]):\n",
    "    smoothed2[i,i]=1"
   ]
  },
  {
   "cell_type": "code",
   "execution_count": null,
   "metadata": {},
   "outputs": [],
   "source": [
    "fig, ax =plt.subplots(figsize=(12,8), dpi= 100)\n",
    "\n",
    "im = ax.imshow(smoothed2, cmap=plt.get_cmap('hot'))\n",
    "cbar = fig.colorbar(im)\n",
    "cbar.set_label(\"Likelihood\")\n",
    "ax.set_ylabel('Start')\n",
    "ax.set_xlabel('End')\n",
    "ax.set_title('Posterior likelihood of segment')\n",
    "\n",
    "\n",
    "fig.show()"
   ]
  },
  {
   "cell_type": "code",
   "execution_count": null,
   "metadata": {},
   "outputs": [],
   "source": [
    "viz = segment_viz.plot_segment_raindrop(post2_bidim, lengthPrior.maxLength)"
   ]
  },
  {
   "cell_type": "code",
   "execution_count": null,
   "metadata": {},
   "outputs": [],
   "source": [
    "viz2 = segment_viz.plot_segment_beams(post2_bidim, lengthPrior.maxLength)"
   ]
  },
  {
   "cell_type": "code",
   "execution_count": null,
   "metadata": {},
   "outputs": [],
   "source": [
    "linear_viz = np.zeros((np.shape(post2_bidim)[0], lengthPrior.maxLength))\n",
    "for i in range(np.shape(post2_bidim)[0]):\n",
    "    for j in range(lengthPrior.maxLength):\n",
    "        if i+j < np.shape(post2_bidim)[0]:\n",
    "            for k in range(j):\n",
    "                linear_viz[i+k,j] = linear_viz[i+k,j] + post2_bidim[i,i+j]"
   ]
  },
  {
   "cell_type": "code",
   "execution_count": null,
   "metadata": {},
   "outputs": [],
   "source": [
    "fig=plt.figure(figsize=(16,4), dpi= 100)\n",
    "\n",
    "plt.imshow(np.transpose(linear_viz), cmap=plt.get_cmap('hot'), origin='lower', aspect=4)\n",
    "plt.colorbar()\n",
    "\n",
    "plt.show()"
   ]
  },
  {
   "cell_type": "code",
   "execution_count": null,
   "metadata": {},
   "outputs": [],
   "source": []
  },
  {
   "cell_type": "code",
   "execution_count": null,
   "metadata": {},
   "outputs": [],
   "source": [
    "linear_viz_point = np.zeros((np.shape(smoothed2)[0], lengthPrior.maxLength))\n",
    "for i in range(np.shape(smoothed2)[0]):\n",
    "    for j in range(lengthPrior.maxLength):\n",
    "        if i+j < np.shape(smoothed2)[0]:\n",
    "            for k in range(1):\n",
    "                linear_viz_point[i+k,j] = linear_viz_point[i+k,j] + smoothed2[i,i+j]"
   ]
  },
  {
   "cell_type": "code",
   "execution_count": null,
   "metadata": {},
   "outputs": [],
   "source": [
    "fig=plt.figure(figsize=(16,4), dpi= 100)\n",
    "\n",
    "plt.imshow(np.transpose(linear_viz_point), cmap=plt.get_cmap('hot'), origin='lower', aspect=4)\n",
    "plt.colorbar()\n",
    "\n",
    "plt.show()"
   ]
  },
  {
   "cell_type": "code",
   "execution_count": null,
   "metadata": {},
   "outputs": [],
   "source": [
    "priorMarginals, prior_bidim = dc.runAlphaBeta([0 for _ in in_data.ARI], arcPrior, lengthPrior, return2D=True)"
   ]
  },
  {
   "cell_type": "code",
   "execution_count": null,
   "metadata": {},
   "outputs": [],
   "source": [
    "_=segment_viz.plot_segment_with_signal(priorMarginals,[0 for _ in in_data.ARI],in_data.time, smoothing=1)"
   ]
  },
  {
   "cell_type": "code",
   "execution_count": null,
   "metadata": {},
   "outputs": [],
   "source": [
    "geo_prior = length_priors.DiscreteLengthPrior(len(in_data.ARI), make_geo_dist(5, 60, .8), 60)\n",
    "geo_prior_marginals, geo_prior_bidim = dc.runAlphaBeta([0 for _ in in_data.ARI], arcPrior, geo_prior, return2D=True)"
   ]
  },
  {
   "cell_type": "code",
   "execution_count": null,
   "metadata": {},
   "outputs": [],
   "source": [
    "_=segment_viz.plot_segment_with_signal(geo_prior_marginals,[0 for _ in in_data.ARI],in_data.time, smoothing=1)"
   ]
  },
  {
   "cell_type": "code",
   "execution_count": null,
   "metadata": {},
   "outputs": [],
   "source": [
    "uni_prior = length_priors.EmpiricalLengthPrior(list(range(10,15)),len(in_data.ARI))\n",
    "uni_prior_marginals, uni_prior_bidim = dc.runAlphaBeta([0 for _ in in_data.ARI], arcPrior, uni_prior, return2D=True)"
   ]
  },
  {
   "cell_type": "code",
   "execution_count": null,
   "metadata": {},
   "outputs": [],
   "source": [
    "_=segment_viz.plot_segment_with_signal(uni_prior_marginals,[0 for _ in in_data.ARI],in_data.time, smoothing=5)"
   ]
  },
  {
   "cell_type": "code",
   "execution_count": null,
   "metadata": {},
   "outputs": [],
   "source": [
    "_ = segment_viz.plot_segment_raindrop(prior_bidim, max_length=120)\n",
    "_ = segment_viz.plot_segment_raindrop(geo_prior_bidim, max_length=120)\n",
    "_ = segment_viz.plot_segment_raindrop(uni_prior_bidim, max_length=120)"
   ]
  },
  {
   "cell_type": "code",
   "execution_count": null,
   "metadata": {},
   "outputs": [],
   "source": [
    "print(geo_prior.distrib.get(15)**2)\n",
    "print(geo_prior.distrib.get(10)*geo_prior.distrib.get(20))"
   ]
  },
  {
   "cell_type": "code",
   "execution_count": null,
   "metadata": {},
   "outputs": [],
   "source": [
    "print(geo_prior.evalCond(-1,10) * geo_prior.evalCond(10,30))\n",
    "print(geo_prior.evalCond(-1,15) * geo_prior.evalCond(15,30))"
   ]
  },
  {
   "cell_type": "code",
   "execution_count": null,
   "metadata": {},
   "outputs": [],
   "source": [
    "geo_prior = length_priors.DiscreteLengthPrior(30, make_geo_dist(11, 18, .8), 20)\n",
    "geo_prior_marginals, geo_prior_bidim = dc.runAlphaBeta([0 for _ in range(30)], arcPrior, geo_prior, return2D=True)"
   ]
  },
  {
   "cell_type": "code",
   "execution_count": null,
   "metadata": {},
   "outputs": [],
   "source": [
    "_=segment_viz.plot_segment_with_signal(geo_prior_marginals,[0 for _ in range(30)],list(range(30)), smoothing=1)"
   ]
  },
  {
   "cell_type": "code",
   "execution_count": null,
   "metadata": {},
   "outputs": [],
   "source": [
    "print(geo_prior_marginals)"
   ]
  },
  {
   "cell_type": "code",
   "execution_count": null,
   "metadata": {},
   "outputs": [],
   "source": []
  }
 ],
 "metadata": {
  "interpreter": {
   "hash": "3ed76a5abdc9632801aa97d686d9089ed24136b8f7c2ef690bd6237f9b091f88"
  },
  "kernelspec": {
   "display_name": "Python 3.8.2 64-bit ('.venv': venv)",
   "name": "python3"
  },
  "language_info": {
   "codemirror_mode": {
    "name": "ipython",
    "version": 3
   },
   "file_extension": ".py",
   "mimetype": "text/x-python",
   "name": "python",
   "nbconvert_exporter": "python",
   "pygments_lexer": "ipython3",
   "version": "3.8.2"
  },
  "orig_nbformat": 4
 },
 "nbformat": 4,
 "nbformat_minor": 2
}
