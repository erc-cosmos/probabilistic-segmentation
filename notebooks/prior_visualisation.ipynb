{
 "cells": [
  {
   "cell_type": "code",
   "execution_count": null,
   "metadata": {},
   "outputs": [],
   "source": [
    "import dynamic_computation as dc\n",
    "import length_priors\n",
    "import segment_viz"
   ]
  },
  {
   "cell_type": "code",
   "execution_count": null,
   "metadata": {},
   "outputs": [],
   "source": [
    "def make_geo_dist(min_len, max_len, ratio):\n",
    "    unscaled = [ratio**i for i in range(max_len-min_len)]\n",
    "    factor = sum(unscaled)\n",
    "    return {i:p/factor for i, p in zip(range(min_len, max_len), unscaled)}\n",
    "data_length = 240\n",
    "lengthPrior = length_priors.DiscreteLengthPrior(data_length, make_geo_dist(20, 31, .9), 30)"
   ]
  },
  {
   "cell_type": "code",
   "execution_count": null,
   "metadata": {},
   "outputs": [],
   "source": [
    "# lengthPrior = lengthPriors.EmpiricalLengthPrior(list(range(1,20)), dataLength=data_length, maxLength=20)"
   ]
  },
  {
   "cell_type": "code",
   "execution_count": null,
   "metadata": {},
   "outputs": [],
   "source": [
    "# lengthPriorParamsLoud = {\n",
    "#     'mean': 11.8,\n",
    "#     'stddev': 5.53,\n",
    "#     'maxLength': 30\n",
    "# }\n",
    "# lengthPrior=lengthPriors.NormalLengthPrior(20, 5, list(range(data_length)), 40)"
   ]
  },
  {
   "cell_type": "code",
   "execution_count": null,
   "metadata": {},
   "outputs": [],
   "source": [
    "make_geo_dist(19, 22, .9)"
   ]
  },
  {
   "cell_type": "code",
   "execution_count": null,
   "metadata": {},
   "outputs": [],
   "source": [
    "prior, prior2D = dc.prior_marginals(data_length, lengthPrior, return2D=True)"
   ]
  },
  {
   "cell_type": "code",
   "execution_count": null,
   "metadata": {},
   "outputs": [],
   "source": [
    "_=segment_viz.plot_segment_beams(prior2D, 25)"
   ]
  },
  {
   "cell_type": "code",
   "execution_count": null,
   "metadata": {},
   "outputs": [],
   "source": [
    "import numpy as np\n",
    "_ = segment_viz.plot_segment_with_signal(prior, np.zeros((data_length,1)),list(range(data_length)), smoothing=1)"
   ]
  },
  {
   "cell_type": "code",
   "execution_count": null,
   "metadata": {},
   "outputs": [],
   "source": [
    "_=segment_viz.plot_segment_raindrop(prior2D, 25)"
   ]
  },
  {
   "cell_type": "code",
   "execution_count": null,
   "metadata": {},
   "outputs": [],
   "source": []
  },
  {
   "cell_type": "code",
   "execution_count": null,
   "metadata": {},
   "outputs": [],
   "source": []
  },
  {
   "cell_type": "code",
   "execution_count": null,
   "metadata": {},
   "outputs": [],
   "source": []
  }
 ],
 "metadata": {
  "interpreter": {
   "hash": "e7e00797d6dbd444a945689f637f7f4c550215fb115f33601c7de82aa434dfd9"
  },
  "kernelspec": {
   "display_name": "Python 3.8.2 64-bit ('.venv': venv)",
   "name": "python3"
  },
  "language_info": {
   "codemirror_mode": {
    "name": "ipython",
    "version": 3
   },
   "file_extension": ".py",
   "mimetype": "text/x-python",
   "name": "python",
   "nbconvert_exporter": "python",
   "pygments_lexer": "ipython3",
   "version": "3.8.2"
  },
  "orig_nbformat": 4
 },
 "nbformat": 4,
 "nbformat_minor": 2
}
