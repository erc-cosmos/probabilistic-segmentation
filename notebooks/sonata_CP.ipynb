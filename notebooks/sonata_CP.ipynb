{
 "cells": [
  {
   "cell_type": "markdown",
   "metadata": {},
   "source": [
    "# Experiments on a modified moonlight sonata (mov3)"
   ]
  },
  {
   "cell_type": "code",
   "execution_count": null,
   "metadata": {},
   "outputs": [],
   "source": [
    "import csv\n",
    "import dynamic_computation as dc\n",
    "import matplotlib.pyplot as plt\n",
    "import numpy as np\n",
    "import scipy.interpolate as inter"
   ]
  },
  {
   "cell_type": "code",
   "execution_count": null,
   "metadata": {},
   "outputs": [],
   "source": [
    "with open('data/sonataCP/Loudness_Changepoints_beats.csv') as csv_file:\n",
    "    csv_reader = csv.reader(csv_file)\n",
    "    next(csv_reader)\n",
    "    beats = [float(t) for t,*_ in csv_reader]\n",
    "interpolate_target = beats"
   ]
  },
  {
   "cell_type": "markdown",
   "metadata": {},
   "source": [
    "## Piecewise constant"
   ]
  },
  {
   "cell_type": "code",
   "execution_count": null,
   "metadata": {},
   "outputs": [],
   "source": [
    "with open('data/sonataCP/Loudness_Changepoints_loudness.csv') as csv_file:\n",
    "    csv_reader = csv.reader(csv_file)\n",
    "    next(csv_reader)\n",
    "    smooth_loudness = [(float(line[0]),float(line[3])) for line in csv_reader]"
   ]
  },
  {
   "cell_type": "code",
   "execution_count": null,
   "metadata": {},
   "outputs": [],
   "source": [
    "with open('data/sonataCP/Loudness_Changepoints_velocity.csv') as csv_file:\n",
    "    csv_reader = csv.reader(csv_file)\n",
    "    next(csv_reader)\n",
    "    velocities = [(float(t), int(v)) for t,v in csv_reader]\n",
    "t_scaling =  101.887/ velocities[-1][0]\n",
    "velocities = [(t*t_scaling,v) for t,v in velocities]"
   ]
  },
  {
   "cell_type": "code",
   "execution_count": null,
   "metadata": {},
   "outputs": [],
   "source": [
    "t_v, v_v = zip(*velocities)\n",
    "fig, ax1 = plt.subplots()\n",
    "ax1.plot(t_v, v_v)\n",
    "ax2 = ax1.twinx()\n",
    "ax2.plot(*zip(*smooth_loudness), 'y')\n",
    "fig.show()"
   ]
  },
  {
   "cell_type": "code",
   "execution_count": null,
   "metadata": {},
   "outputs": [],
   "source": [
    "spline = inter.UnivariateSpline(*zip(*smooth_loudness), s=0)\n",
    "loudness = spline(interpolate_target)"
   ]
  },
  {
   "cell_type": "code",
   "execution_count": null,
   "metadata": {},
   "outputs": [],
   "source": [
    "t_v, v_v = zip(*velocities)\n",
    "fig, ax1 = plt.subplots()\n",
    "ax1.plot(t_v, v_v)\n",
    "ax2 = ax1.twinx()\n",
    "ax2.plot(interpolate_target, loudness, 'y')\n",
    "fig.show()"
   ]
  },
  {
   "cell_type": "code",
   "execution_count": null,
   "metadata": {},
   "outputs": [],
   "source": [
    "import lengthPriors\n",
    "length_prior = lengthPriors.EmpiricalLengthPrior(list(range(1,20)), dataLength=len(loudness), maxLength=20)"
   ]
  },
  {
   "cell_type": "code",
   "execution_count": null,
   "metadata": {},
   "outputs": [],
   "source": [
    "arcPriorLoud = {\n",
    "    # Gaussian priors on the parameters of ax^2 + bx + c\n",
    "    'aMean': 0,\n",
    "    'aStd': 00,\n",
    "    'bMean': 00,\n",
    "    'bStd': 00,\n",
    "    'cMean': 0.41,\n",
    "    'cStd': 0.4,\n",
    "    'noiseStd': 0.1\n",
    "}"
   ]
  },
  {
   "cell_type": "code",
   "execution_count": null,
   "metadata": {},
   "outputs": [],
   "source": [
    "posteriors = dc.runAlphaBeta(loudness, arcPriorLoud, length_prior)"
   ]
  },
  {
   "cell_type": "code",
   "execution_count": null,
   "metadata": {},
   "outputs": [],
   "source": [
    "t_v, v_v = zip(*velocities)\n",
    "fig, ax1 = plt.subplots()\n",
    "ax1.plot(t_v, v_v)\n",
    "ax2 = ax1.twinx()\n",
    "ax2.plot(interpolate_target, loudness, 'y')\n",
    "ax2.plot(interpolate_target, posteriors, 'r')\n",
    "fig.show()"
   ]
  },
  {
   "cell_type": "markdown",
   "metadata": {},
   "source": [
    "## Piecewise constant (no velocity changes)"
   ]
  },
  {
   "cell_type": "code",
   "execution_count": null,
   "metadata": {},
   "outputs": [],
   "source": [
    "with open('data/sonataCP/Loudness_Changepoints_flat_loudness.csv') as csv_file:\n",
    "    csv_reader = csv.reader(csv_file)\n",
    "    next(csv_reader)\n",
    "    smooth_loudness_flat = [(float(line[0]),float(line[3])) for line in csv_reader]"
   ]
  },
  {
   "cell_type": "code",
   "execution_count": null,
   "metadata": {},
   "outputs": [],
   "source": [
    "spline = inter.UnivariateSpline(*zip(*smooth_loudness_flat), s=0)\n",
    "loudness_flat = spline(interpolate_target)"
   ]
  },
  {
   "cell_type": "code",
   "execution_count": null,
   "metadata": {},
   "outputs": [],
   "source": [
    "arcPriorLoud_flat = {\n",
    "    # Gaussian priors on the parameters of ax^2 + bx + c\n",
    "    'aMean': 0,\n",
    "    'aStd': 00,\n",
    "    'bMean': 00,\n",
    "    'bStd': 00,\n",
    "    'cMean': 0.41,\n",
    "    'cStd': 0.4,\n",
    "    'noiseStd': 0.1\n",
    "}"
   ]
  },
  {
   "cell_type": "code",
   "execution_count": null,
   "metadata": {},
   "outputs": [],
   "source": [
    "posteriors_flat = dc.runAlphaBeta(loudness_flat, arcPriorLoud_flat, length_prior)"
   ]
  },
  {
   "cell_type": "code",
   "execution_count": null,
   "metadata": {},
   "outputs": [],
   "source": [
    "fig, ax1 = plt.subplots()\n",
    "ax1.plot(interpolate_target, loudness_flat, 'y')\n",
    "ax2 = ax1.twinx()\n",
    "ax2.plot(interpolate_target, posteriors_flat, 'r')\n",
    "fig.show()"
   ]
  },
  {
   "cell_type": "markdown",
   "metadata": {},
   "source": [
    "## Piecewise linear"
   ]
  },
  {
   "cell_type": "code",
   "execution_count": null,
   "metadata": {},
   "outputs": [],
   "source": [
    "with open('data/sonataCP/Loudness_Changepoints_slopes_loudness.csv') as csv_file:\n",
    "    csv_reader = csv.reader(csv_file)\n",
    "    next(csv_reader)\n",
    "    smooth_loudness_flat = [(float(line[0]),float(line[3])) for line in csv_reader]"
   ]
  },
  {
   "cell_type": "code",
   "execution_count": null,
   "metadata": {},
   "outputs": [],
   "source": [
    "with open('data/sonataCP/Loudness_Changepoints_slopes_velocity.csv') as csv_file:\n",
    "    csv_reader = csv.reader(csv_file)\n",
    "    next(csv_reader)\n",
    "    velocities = [(float(t), int(v)) for t,v in csv_reader]\n",
    "t_scaling =  101.887/ velocities[-1][0]\n",
    "velocities = [(t*t_scaling,v) for t,v in velocities]"
   ]
  },
  {
   "cell_type": "code",
   "execution_count": null,
   "metadata": {},
   "outputs": [],
   "source": [
    "spline = inter.UnivariateSpline(*zip(*smooth_loudness_flat), s=0)\n",
    "loudness_flat = spline(interpolate_target)"
   ]
  },
  {
   "cell_type": "code",
   "execution_count": null,
   "metadata": {},
   "outputs": [],
   "source": [
    "arcPriorLoud_flat = {\n",
    "    # Gaussian priors on the parameters of ax^2 + bx + c\n",
    "    'aMean': 0,\n",
    "    'aStd': 00,\n",
    "    'bMean': 00,\n",
    "    'bStd': .8,\n",
    "    'cMean': 0.41,\n",
    "    'cStd': 0.4,\n",
    "    'noiseStd': 0.2\n",
    "}"
   ]
  },
  {
   "cell_type": "code",
   "execution_count": null,
   "metadata": {},
   "outputs": [],
   "source": [
    "import lengthPriors\n",
    "length_prior = lengthPriors.EmpiricalLengthPrior([*range(1,21), *range(5,16), *range(8,13)], dataLength=len(loudness_flat), maxLength=20)"
   ]
  },
  {
   "cell_type": "code",
   "execution_count": null,
   "metadata": {},
   "outputs": [],
   "source": [
    "posteriors_flat = dc.runAlphaBeta(loudness_flat, arcPriorLoud_flat, length_prior)"
   ]
  },
  {
   "cell_type": "code",
   "execution_count": null,
   "metadata": {},
   "outputs": [],
   "source": [
    "fig, ax1 = plt.subplots()\n",
    "ax1.plot(*zip(*velocities))\n",
    "ax2 = ax1.twinx()\n",
    "ax2.plot(interpolate_target, loudness_flat, 'y')\n",
    "ax2.plot(interpolate_target, posteriors_flat, 'r')\n",
    "fig.show()"
   ]
  },
  {
   "cell_type": "code",
   "execution_count": null,
   "metadata": {},
   "outputs": [],
   "source": []
  },
  {
   "cell_type": "code",
   "execution_count": null,
   "metadata": {},
   "outputs": [],
   "source": []
  },
  {
   "cell_type": "code",
   "execution_count": null,
   "metadata": {},
   "outputs": [],
   "source": []
  }
 ],
 "metadata": {
  "interpreter": {
   "hash": "3ed76a5abdc9632801aa97d686d9089ed24136b8f7c2ef690bd6237f9b091f88"
  },
  "kernelspec": {
   "display_name": "Python 3.8.2 64-bit ('.venv': venv)",
   "name": "python3"
  },
  "language_info": {
   "codemirror_mode": {
    "name": "ipython",
    "version": 3
   },
   "file_extension": ".py",
   "mimetype": "text/x-python",
   "name": "python",
   "nbconvert_exporter": "python",
   "pygments_lexer": "ipython3",
   "version": "3.8.2"
  },
  "orig_nbformat": 4
 },
 "nbformat": 4,
 "nbformat_minor": 2
}
