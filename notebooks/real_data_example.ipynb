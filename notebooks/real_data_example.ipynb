{
 "cells": [
  {
   "cell_type": "markdown",
   "metadata": {},
   "source": [
    "# Simple test with real data"
   ]
  },
  {
   "cell_type": "code",
   "execution_count": null,
   "metadata": {},
   "outputs": [],
   "source": [
    "import csv\n",
    "import itertools as itt\n",
    "\n",
    "import matplotlib.pyplot as plt\n",
    "import numpy as np\n",
    "import length_priors\n",
    "\n",
    "import dynamic_computation as dc\n",
    "import readers\n",
    "import segment_viz"
   ]
  },
  {
   "cell_type": "code",
   "execution_count": null,
   "metadata": {},
   "outputs": [],
   "source": []
  },
  {
   "cell_type": "code",
   "execution_count": null,
   "metadata": {},
   "outputs": [],
   "source": [
    "from default_priors import arcPriorTempo, arcPriorLoud, lengthPriorParamsTempo as lengthPriorParams"
   ]
  },
  {
   "cell_type": "markdown",
   "metadata": {},
   "source": [
    "# Loading some data"
   ]
  },
  {
   "cell_type": "code",
   "execution_count": null,
   "metadata": {},
   "outputs": [],
   "source": [
    "timingsData = readers.readAllMazurkaTimingsAndSeg(timingPath=\"data/beat_time\", segPath=\"data/deaf_structure_tempo\")\n",
    "dynData = readers.readAllMazurkaDataAndSeg(timingPath=\"data/beat_dyn\", segPath=\"data/deaf_structure_loudness\")\n",
    "\n",
    "fullData = [(piece, interpret, tempo, tempoSeg, dyn, dynSeg) \n",
    "            for ((piece, interpret, tempo, tempoSeg),(piece2, interpret2, dyn, dynSeg))\n",
    "            in itt.product(timingsData,dynData)\n",
    "            if interpret == interpret2]"
   ]
  },
  {
   "cell_type": "code",
   "execution_count": null,
   "metadata": {},
   "outputs": [],
   "source": [
    "#arcPrior = [arcPriorTempo, arcPriorLoud]\n",
    "arcPrior = arcPriorTempo"
   ]
  },
  {
   "cell_type": "markdown",
   "metadata": {},
   "source": [
    "# Get it Running"
   ]
  },
  {
   "cell_type": "code",
   "execution_count": null,
   "metadata": {},
   "outputs": [],
   "source": [
    "# Unpack the data\n",
    "(piece, interpret, tempo, tempoSeg, dyn, dynSeg) = fullData[0]\n",
    "\n",
    "piece_formatted = piece[16:20]\n",
    "print(piece_formatted, interpret)\n",
    "\n",
    "#sampleData = list(zip(tempo, dyn[1:]))\n",
    "sampleData, times = tempo\n",
    "sampleData = list(sampleData)\n",
    "segs = (tempoSeg, dynSeg)\n",
    "\n",
    "tatums = list(range(len(sampleData)))\n",
    "\n",
    "# Manually correct large anomalies\n",
    "sampleData[106] = 200\n",
    "sampleData[195] = 200"
   ]
  },
  {
   "cell_type": "markdown",
   "metadata": {},
   "source": [
    "## Using a Gaussian Prior"
   ]
  },
  {
   "cell_type": "code",
   "execution_count": null,
   "metadata": {},
   "outputs": [],
   "source": [
    "\n",
    "length_prior = length_priors.NormalLengthPrior(lengthPriorParams['mean'], lengthPriorParams['stddev'], range(\n",
    "    len(sampleData)), lengthPriorParams['maxLength'])\n",
    "\n",
    "post_boundaries, post_segments = dc.runAlphaBeta(sampleData, arcPrior, length_prior, return2D=True)"
   ]
  },
  {
   "cell_type": "code",
   "execution_count": null,
   "metadata": {},
   "outputs": [],
   "source": [
    "_ = segment_viz.plot_segment_with_signal(post_marginals=post_boundaries, data=sampleData, data_time=list(range(len(sampleData))), smoothing=1)\n",
    "_ = segment_viz.plot_segment_beams(post2_bidim=post_segments, max_length=length_prior.maxLength)"
   ]
  },
  {
   "cell_type": "markdown",
   "metadata": {},
   "source": [
    "## Using a Geometric Prior"
   ]
  },
  {
   "cell_type": "code",
   "execution_count": null,
   "metadata": {},
   "outputs": [],
   "source": [
    "\n",
    "length_prior = length_priors.GeometricLengthPrior(len(sampleData), 0.95, min_length=5, max_length=30)\n",
    "\n",
    "post_boundaries, post_segments = dc.runAlphaBeta(sampleData, arcPrior, length_prior, return2D=True)\n",
    "# _ = segment_viz.plot_segment_with_signal(post_marginals=post_boundaries, data=sampleData, data_time=sampleData)\n",
    "# _ = segment_viz.plot_segment_beams(post2_bidim=post_segments, length_prior=length_prior)"
   ]
  },
  {
   "cell_type": "code",
   "execution_count": null,
   "metadata": {},
   "outputs": [],
   "source": [
    "_ = segment_viz.plot_segment_with_signal(post_marginals=post_boundaries, data=sampleData, data_time=list(range(len(sampleData))), smoothing=1)\n",
    "_ = segment_viz.plot_segment_beams(post2_bidim=post_segments, max_length=length_prior.maxLength)"
   ]
  },
  {
   "cell_type": "markdown",
   "metadata": {},
   "source": [
    "## Using an Empirical Prior"
   ]
  },
  {
   "cell_type": "code",
   "execution_count": null,
   "metadata": {},
   "outputs": [],
   "source": [
    "length_observations = sum([[length for length in np.diff(t_seg)] \n",
    "                           for (_piece, _interpret, _tempo, t_seg, _dyn, _dynSeg) in fullData],\n",
    "                          start=[])"
   ]
  },
  {
   "cell_type": "code",
   "execution_count": null,
   "metadata": {},
   "outputs": [],
   "source": [
    "length_prior = length_priors.EmpiricalLengthPrior(length_observations, len(sampleData), maxLength=30)\n",
    "\n",
    "post_boundaries, post_segments = dc.runAlphaBeta(sampleData, arcPrior, length_prior, return2D=True)\n",
    "# _ = segment_viz.plot_segment_with_signal(post_marginals=post_boundaries, data=sampleData, data_time=sampleData)\n",
    "# _ = segment_viz.plot_segment_beams(post2_bidim=post_segments, length_prior=length_prior)"
   ]
  },
  {
   "cell_type": "code",
   "execution_count": null,
   "metadata": {},
   "outputs": [],
   "source": [
    "_ = segment_viz.plot_segment_with_signal(post_marginals=post_boundaries, data=sampleData, data_time=list(range(len(sampleData))), smoothing=1)\n",
    "_ = segment_viz.plot_segment_beams(post2_bidim=post_segments, max_length=length_prior.maxLength)"
   ]
  },
  {
   "cell_type": "code",
   "execution_count": null,
   "metadata": {},
   "outputs": [],
   "source": [
    "import pandas as pd\n",
    "times = np.cumsum(1/(tempo/60))+2\n",
    "df = pd.DataFrame.from_dict({'time':times, 'p_boundary': post_boundaries})\n",
    "df.to_csv(\"boundaries_post.csv\")"
   ]
  },
  {
   "cell_type": "markdown",
   "metadata": {},
   "source": [
    "## Using a Uniform Prior"
   ]
  },
  {
   "cell_type": "code",
   "execution_count": null,
   "metadata": {},
   "outputs": [],
   "source": [
    "\n",
    "length_prior4 = length_priors.EmpiricalLengthPrior(range(5, 30), len(sampleData), maxLength=30)\n",
    "\n",
    "post_boundaries4, post_segments4 = dc.runAlphaBeta(sampleData, arcPrior, length_prior4, return2D=True)\n",
    "# _ = segment_viz.plot_segment_with_signal(post_marginals=post_boundaries, data=sampleData, data_time=sampleData)\n",
    "# _ = segment_viz.plot_segment_beams(post2_bidim=post_segments, length_prior=length_prior)"
   ]
  },
  {
   "cell_type": "code",
   "execution_count": null,
   "metadata": {},
   "outputs": [],
   "source": [
    "_ = segment_viz.plot_segment_with_signal(post_marginals=post_boundaries4, data=sampleData, data_time=list(range(len(sampleData))), smoothing=1)\n",
    "_ = segment_viz.plot_segment_beams(post2_bidim=post_segments4, max_length=length_prior4.maxLength)"
   ]
  }
 ],
 "metadata": {
  "interpreter": {
   "hash": "3ed76a5abdc9632801aa97d686d9089ed24136b8f7c2ef690bd6237f9b091f88"
  },
  "kernelspec": {
   "display_name": "Python 3.8.2 64-bit ('.venv': venv)",
   "name": "python3"
  },
  "language_info": {
   "codemirror_mode": {
    "name": "ipython",
    "version": 3
   },
   "file_extension": ".py",
   "mimetype": "text/x-python",
   "name": "python",
   "nbconvert_exporter": "python",
   "pygments_lexer": "ipython3",
   "version": "3.8.2"
  },
  "orig_nbformat": 2
 },
 "nbformat": 4,
 "nbformat_minor": 2
}
