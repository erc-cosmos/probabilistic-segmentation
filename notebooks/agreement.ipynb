{
 "cells": [
  {
   "cell_type": "code",
   "execution_count": null,
   "metadata": {},
   "outputs": [],
   "source": [
    "from readers import *\n",
    "from scoring import *\n",
    "import numpy as np"
   ]
  },
  {
   "cell_type": "code",
   "execution_count": null,
   "metadata": {},
   "outputs": [],
   "source": [
    "timingsData = readAllMazurkaTimingsAndSeg()\n",
    "dynData = readAllMazurkaDataAndSeg()\n",
    "\n",
    "scores = []\n",
    "for (piece, interpret, tempo, tempoSeg) in timingsData:\n",
    "    for (piece2, interpret2, dyn, dynSeg) in dynData:\n",
    "        if interpret == interpret2 :\n",
    "            dynSeg = [x-1 for x in dynSeg]\n",
    "            scores.append( (piece, interpret, frpMeasures(dynSeg, tempoSeg, tolerance=3)) )"
   ]
  },
  {
   "cell_type": "code",
   "execution_count": null,
   "metadata": {},
   "outputs": [],
   "source": [
    "# print(scores)\n",
    "print(np.mean([f for (piece,intepret,(f,r,p)) in scores]))\n",
    "print(np.mean([r for (piece,intepret,(f,r,p)) in scores]))\n",
    "print(np.mean([p for (piece,intepret,(f,r,p)) in scores]))"
   ]
  },
  {
   "cell_type": "code",
   "execution_count": null,
   "metadata": {},
   "outputs": [],
   "source": [
    "scores_interPerf = []\n",
    "for (piece, interpret, tempo, tempoSeg) in dynData:\n",
    "    for (piece2, interpret2, tempo2, tempoSeg2) in timingsData:\n",
    "        if piece[15:19] == piece2[16:20] and interpret != interpret2:\n",
    "            scores_interPerf.append( (piece,interpret,interpret2, frpMeasures(tempoSeg,tempoSeg2, tolerance=3)))"
   ]
  },
  {
   "cell_type": "code",
   "execution_count": null,
   "metadata": {},
   "outputs": [],
   "source": [
    "print(np.mean([f for (piece,intepret,_,(f,r,p)) in scores_interPerf]))\n",
    "print(np.mean([r for (piece,intepret,_,(f,r,p)) in scores_interPerf]))\n",
    "print(np.mean([p for (piece,intepret,_,(f,r,p)) in scores_interPerf]))"
   ]
  }
 ],
 "metadata": {
  "interpreter": {
   "hash": "3ed76a5abdc9632801aa97d686d9089ed24136b8f7c2ef690bd6237f9b091f88"
  },
  "kernelspec": {
   "display_name": "Python 3.8.2 64-bit ('.venv': venv)",
   "name": "python3"
  },
  "language_info": {
   "codemirror_mode": {
    "name": "ipython",
    "version": 3
   },
   "file_extension": ".py",
   "mimetype": "text/x-python",
   "name": "python",
   "nbconvert_exporter": "python",
   "pygments_lexer": "ipython3",
   "version": "3.8.2"
  },
  "orig_nbformat": 4
 },
 "nbformat": 4,
 "nbformat_minor": 2
}
