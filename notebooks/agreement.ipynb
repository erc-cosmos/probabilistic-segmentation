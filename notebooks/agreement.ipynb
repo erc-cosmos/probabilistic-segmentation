{
 "cells": [
  {
   "cell_type": "code",
   "execution_count": 1,
   "source": [
    "from readers import *\n",
    "from scoring import *\n",
    "import numpy as np"
   ],
   "outputs": [],
   "metadata": {}
  },
  {
   "cell_type": "code",
   "execution_count": 2,
   "source": [
    "timingsData = readAllMazurkaTimingsAndSeg()\n",
    "dynData = readAllMazurkaDataAndSeg()\n",
    "\n",
    "scores = []\n",
    "for (piece, interpret, tempo, tempoSeg) in timingsData:\n",
    "    for (piece2, interpret2, dyn, dynSeg) in dynData:\n",
    "        if interpret == interpret2 :\n",
    "            dynSeg = [x-1 for x in dynSeg]\n",
    "            scores.append( (piece, interpret, frpMeasures(dynSeg, tempoSeg, tolerance=3)) )"
   ],
   "outputs": [],
   "metadata": {}
  },
  {
   "cell_type": "code",
   "execution_count": 3,
   "source": [
    "# print(scores)\n",
    "print(np.mean([f for (piece,intepret,(f,r,p)) in scores]))\n",
    "print(np.mean([r for (piece,intepret,(f,r,p)) in scores]))\n",
    "print(np.mean([p for (piece,intepret,(f,r,p)) in scores]))"
   ],
   "outputs": [
    {
     "output_type": "stream",
     "name": "stdout",
     "text": [
      "0.7245036464506307\n",
      "0.6922588986239098\n",
      "0.7813922550720466\n"
     ]
    }
   ],
   "metadata": {}
  },
  {
   "cell_type": "code",
   "execution_count": 8,
   "source": [
    "scores_interPerf = []\n",
    "for (piece, interpret, tempo, tempoSeg) in dynData:\n",
    "    for (piece2, interpret2, tempo2, tempoSeg2) in timingsData:\n",
    "        if piece[15:19] == piece2[16:20] and interpret != interpret2:\n",
    "            scores_interPerf.append( (piece,interpret,interpret2, frpMeasures(tempoSeg,tempoSeg2, tolerance=3)))"
   ],
   "outputs": [],
   "metadata": {}
  },
  {
   "cell_type": "code",
   "execution_count": 10,
   "source": [
    "print(np.mean([f for (piece,intepret,_,(f,r,p)) in scores_interPerf]))\n",
    "print(np.mean([r for (piece,intepret,_,(f,r,p)) in scores_interPerf]))\n",
    "print(np.mean([p for (piece,intepret,_,(f,r,p)) in scores_interPerf]))"
   ],
   "outputs": [
    {
     "output_type": "stream",
     "name": "stdout",
     "text": [
      "0.692014273182237\n",
      "0.6546072373421565\n",
      "0.7536625291965294\n"
     ]
    }
   ],
   "metadata": {}
  }
 ],
 "metadata": {
  "orig_nbformat": 4,
  "language_info": {
   "name": "python",
   "version": "3.8.2",
   "mimetype": "text/x-python",
   "codemirror_mode": {
    "name": "ipython",
    "version": 3
   },
   "pygments_lexer": "ipython3",
   "nbconvert_exporter": "python",
   "file_extension": ".py"
  },
  "kernelspec": {
   "name": "python3",
   "display_name": "Python 3.8.2 64-bit ('.venv': venv)"
  },
  "interpreter": {
   "hash": "3ed76a5abdc9632801aa97d686d9089ed24136b8f7c2ef690bd6237f9b091f88"
  }
 },
 "nbformat": 4,
 "nbformat_minor": 2
}