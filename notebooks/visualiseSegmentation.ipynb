{
 "metadata": {
  "language_info": {
   "codemirror_mode": {
    "name": "ipython",
    "version": 3
   },
   "file_extension": ".py",
   "mimetype": "text/x-python",
   "name": "python",
   "nbconvert_exporter": "python",
   "pygments_lexer": "ipython3",
   "version": "3.8.2-final"
  },
  "orig_nbformat": 2,
  "kernelspec": {
   "name": "python382jvsc74a57bd03ed76a5abdc9632801aa97d686d9089ed24136b8f7c2ef690bd6237f9b091f88",
   "display_name": "Python 3.8.2 64-bit ('.venv')"
  },
  "metadata": {
   "interpreter": {
    "hash": "3ed76a5abdc9632801aa97d686d9089ed24136b8f7c2ef690bd6237f9b091f88"
   }
  }
 },
 "nbformat": 4,
 "nbformat_minor": 2,
 "cells": [
  {
   "cell_type": "code",
   "execution_count": null,
   "metadata": {},
   "outputs": [],
   "source": [
    "import csv\n",
    "import matplotlib.pyplot as plt\n",
    "import numpy as np\n",
    "\n",
    "from singleArc import *\n",
    "from readers import *"
   ]
  },
  {
   "cell_type": "code",
   "execution_count": null,
   "metadata": {},
   "outputs": [],
   "source": [
    "fullData2 = readAllMazurkaTimingsAndSeg(timingPath='data/beat_time',segPath='data/deaf_structure_tempo')\n",
    "fullData = readAllMazurkaDataAndSeg(timingPath=\"data/beat_dyn\",segPath=\"data/deaf_structure_loudness\")"
   ]
  },
  {
   "cell_type": "code",
   "execution_count": null,
   "metadata": {},
   "outputs": [],
   "source": [
    "#Minirun for debugging\n",
    "fullData = fullData[-20:]"
   ]
  },
  {
   "cell_type": "code",
   "execution_count": null,
   "metadata": {},
   "outputs": [],
   "source": [
    "_,_,dataList,segList = zip(*fullData)\n",
    "\n",
    "target = dataList\n",
    "seg = segList\n",
    "ML = []\n",
    "lengths = []\n",
    "err = []\n",
    "\n",
    "for t,s in zip(target,seg):\n",
    "    y = []\n",
    "    s = [-1,*s]\n",
    "    for (sscurr,ssnext) in zip(s,s[1:]):\n",
    "        data = normalizeX(t[(sscurr+1):ssnext+1])\n",
    "        ML.append(arcML(data))\n",
    "        lengths.append(ssnext-sscurr)\n",
    "        y.extend([ML[-1][0]*x*x + ML[-1][1]*x + ML[-1][2] for (x,_) in data])\n",
    "    err.extend(t-y)\n",
    "    plt.figure()\n",
    "    plt.plot(t)\n",
    "    plt.plot(y)\n",
    "    plt.vlines(s, ymin=np.min(t), ymax=np.max(t), colors=\"r\")\n",
    "    plt.show()\n",
    "\n",
    "a,b,c = zip(*[(MLi[0],MLi[1],MLi[2]) for MLi in ML])"
   ]
  },
  {
   "cell_type": "code",
   "execution_count": null,
   "metadata": {},
   "outputs": [],
   "source": [
    "print(np.mean(a))\n",
    "print(np.std(a))\n",
    "print(np.mean(b))\n",
    "print(np.std(b))\n",
    "print(np.mean(c))\n",
    "print(np.std(c))\n",
    "print(np.mean(lengths))\n",
    "print(np.std(lengths))\n",
    "print(np.mean(err))\n",
    "print(np.std(err))"
   ]
  },
  {
   "cell_type": "code",
   "execution_count": null,
   "metadata": {},
   "outputs": [],
   "source": [
    "plt.figure()\n",
    "plt.hist(lengths,bins=20)\n",
    "plt.show()"
   ]
  },
  {
   "cell_type": "code",
   "execution_count": null,
   "metadata": {},
   "outputs": [],
   "source": []
  }
 ]
}