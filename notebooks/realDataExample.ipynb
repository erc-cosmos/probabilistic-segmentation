{
 "metadata": {
  "language_info": {
   "codemirror_mode": {
    "name": "ipython",
    "version": 3
   },
   "file_extension": ".py",
   "mimetype": "text/x-python",
   "name": "python",
   "nbconvert_exporter": "python",
   "pygments_lexer": "ipython3",
   "version": "3.8.2"
  },
  "orig_nbformat": 2,
  "kernelspec": {
   "name": "python3",
   "display_name": "Python 3.8.2 64-bit ('.venv': venv)"
  },
  "interpreter": {
   "hash": "3ed76a5abdc9632801aa97d686d9089ed24136b8f7c2ef690bd6237f9b091f88"
  }
 },
 "nbformat": 4,
 "nbformat_minor": 2,
 "cells": [
  {
   "cell_type": "markdown",
   "source": [
    "# Simple test with real data"
   ],
   "metadata": {}
  },
  {
   "cell_type": "code",
   "execution_count": null,
   "source": [
    "import csv\n",
    "import itertools as itt\n",
    "\n",
    "import matplotlib.pyplot as plt\n",
    "import numpy as np\n",
    "import lengthPriors\n",
    "\n",
    "import dynamicComputation as dc\n",
    "import readers"
   ],
   "outputs": [],
   "metadata": {}
  },
  {
   "cell_type": "code",
   "execution_count": null,
   "source": [
    "from defaultPriors import arcPriorTempo, arcPriorLoud, lengthPriorParamsTempo as lengthPriorParams"
   ],
   "outputs": [],
   "metadata": {}
  },
  {
   "cell_type": "markdown",
   "source": [
    "# Loading some data"
   ],
   "metadata": {}
  },
  {
   "cell_type": "code",
   "execution_count": null,
   "source": [
    "timingsData = readers.readAllMazurkaTimingsAndSeg(timingPath=\"data/beat_time\", segPath=\"data/deaf_structure_tempo\")\n",
    "dynData = readers.readAllMazurkaDataAndSeg(timingPath=\"data/beat_dyn\", segPath=\"data/deaf_structure_loudness\")\n",
    "\n",
    "fullData = [(piece, interpret, tempo, tempoSeg, dyn, dynSeg) \n",
    "            for ((piece, interpret, tempo, tempoSeg),(piece2, interpret2, dyn, dynSeg))\n",
    "            in itt.product(timingsData,dynData)\n",
    "            if interpret == interpret2]"
   ],
   "outputs": [],
   "metadata": {}
  },
  {
   "cell_type": "code",
   "execution_count": null,
   "source": [
    "arcPrior = [arcPriorTempo, arcPriorLoud]"
   ],
   "outputs": [],
   "metadata": {}
  },
  {
   "cell_type": "markdown",
   "source": [
    "# Get it Running"
   ],
   "metadata": {}
  },
  {
   "cell_type": "code",
   "execution_count": null,
   "source": [
    "# Unpack the data\n",
    "(piece, interpret, tempo, tempoSeg, dyn, dynSeg) = fullData[0]\n",
    "\n",
    "piece_formatted = piece[16:20]\n",
    "print(piece_formatted, interpret)\n",
    "\n",
    "sampleData = list(zip(tempo, dyn[1:]))\n",
    "segs = (tempoSeg, dynSeg)\n",
    "\n",
    "tatums = list(range(len(sampleData)))\n",
    "# tatums,idx = np.unique(tatums[1:],return_index=True)\n",
    "# sampleData = y[idx]\n",
    "\n",
    "# idx = sampleData<300\n",
    "# sampleData = sampleData[idx]\n",
    "# tatums = tatums[idx]\n",
    "\n",
    "# sampleData = list(zip(sampleData,sampleData))\n",
    "# tatums=tatums[:300]\n",
    "# sampleData=sampleData[:300]\n",
    "\n",
    "lengthPrior = lengthPriors.NormalLengthPrior(lengthPriorParams['mean'], lengthPriorParams['stddev'], range(\n",
    "    len(sampleData)), lengthPriorParams['maxLength'])\n",
    "\n",
    "posteriorMarginals = dc.runAlphaBeta(sampleData, arcPrior, lengthPrior)\n",
    "\n",
    "fig, ax1 = plt.subplots()\n",
    "tempo, dyn = zip(*sampleData)\n",
    "ax1.plot(tatums, tempo, color=\"r\")  # Tempo input data\n",
    "plt.ylim(0, 300)\n",
    "\n",
    "ax2 = ax1.twinx()\n",
    "\n",
    "ax2.plot(tatums, posteriorMarginals, 'k')  # Posterior Marginals\n",
    "plt.ylim(0, 1)\n",
    "ax2.plot(tatums, dyn, color=\"b\")  # Dyn input data\n",
    "plt.vlines(segs[0], ymin=0, ymax=1, colors=\"r\", linestyle='dotted')  # Tempo seg\n",
    "plt.vlines(segs[1], ymin=0, ymax=1, colors=\"b\", linestyle='dotted')  # Dyn seg\n",
    "plt.show()"
   ],
   "outputs": [],
   "metadata": {}
  },
  {
   "cell_type": "code",
   "execution_count": null,
   "source": [
    "with open(f\"output/{piece_formatted}_{interpret}_pm.csv\", 'w') as outfile:\n",
    "    csvWriter = csv.writer(outfile)\n",
    "    csvWriter.writerow([\"Beat count\", \"Posterior Marginal\"])\n",
    "    csvWriter.writerows(enumerate(posteriorMarginals))"
   ],
   "outputs": [],
   "metadata": {}
  }
 ]
}