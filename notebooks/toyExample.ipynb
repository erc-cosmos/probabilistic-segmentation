{
 "metadata": {
  "language_info": {
   "codemirror_mode": {
    "name": "ipython",
    "version": 3
   },
   "file_extension": ".py",
   "mimetype": "text/x-python",
   "name": "python",
   "nbconvert_exporter": "python",
   "pygments_lexer": "ipython3",
   "version": "3.8.2-final"
  },
  "orig_nbformat": 2,
  "kernelspec": {
   "name": "python382jvsc74a57bd0fe342846219a16f257363f855d4f4aa015c41a10a3fd9707ee27a7e2be886740",
   "display_name": "Python 3.8.2 64-bit ('.venv': venv)",
   "language": "python"
  }
 },
 "nbformat": 4,
 "nbformat_minor": 2,
 "cells": [
  {
   "source": [
    "# Simple application of Arcs to a toy example"
   ],
   "cell_type": "markdown",
   "metadata": {}
  },
  {
   "cell_type": "code",
   "execution_count": null,
   "metadata": {},
   "outputs": [],
   "source": [
    "import numpy as np\n",
    "import matplotlib.pyplot as plt\n",
    "import scipy as sp\n",
    "\n",
    "from dynamicComputation import *\n",
    "from scoring import *\n",
    "from syntheticData import *\n",
    "from lengthPriors import *"
   ]
  },
  {
   "source": [
    "Let's get some default priors for the arcs."
   ],
   "cell_type": "markdown",
   "metadata": {}
  },
  {
   "cell_type": "code",
   "execution_count": null,
   "metadata": {},
   "outputs": [],
   "source": [
    "from defaultPriors import arcPriorTempo as arcPrior"
   ]
  },
  {
   "source": [
    "%%script false --no-raise-error\n",
    "# Old way of having a length prior\n",
    "\n",
    "pmf = sp.stats.binom.pmf(list(range(31)),30,.5)\n",
    "pmf[0] = 0\n",
    "pmf[1] = 0\n",
    "pmf = [float(m)/sum(pmf) for m in pmf]\n",
    "\n",
    "cmf = np.cumsum(pmf)\n",
    "\n",
    "def priorEvalCond(N,a,b):\n",
    "    pmf = sp.stats.binom.pmf(list(range(31)),30,.5)\n",
    "    pmf[0] = 0\n",
    "    pmf[1] = 0\n",
    "    pmf = [float(m)/sum(pmf) for m in pmf]\n",
    "    cmf = np.cumsum(pmf)\n",
    "\n",
    "    maxLength = 30\n",
    "    cum = 1 if N-a > maxLength or cmf[N-a]==0 else cmf[N-a]\n",
    "    prob = 1 if b-a > maxLength else pmf[b-a]\n",
    "    return prob/cum\n",
    "\n",
    "# Assume 10% probability of arc ending at any point\n",
    "def priorEval(N,a,b):\n",
    "    return .1*.1*pow(1-.1,b-a-1)\n",
    "\n",
    "\n",
    "lengthPrior = {\n",
    "    # Free prior on the length of arcs\n",
    "    # needs to be scaled to the range of possible values\n",
    "    'max': 30,  # Any longer will have 0 likelihood -- useful for bounding complexity\n",
    "    'cmf':cmf,\n",
    "    'pmf':pmf,\n",
    "    # 'cmf': [0, 0, .05, .20, .35, .65, .80, .95, 1],  # Cumulative mass function\n",
    "    # 'pmf': [0, 0, .05, .15, .15, .3, .15, .15, .05]  # Probability mass function\n",
    "    'eval': priorEval,\n",
    "    'evalCond': priorEvalCond \n",
    "}\n"
   ],
   "cell_type": "code",
   "metadata": {},
   "execution_count": null,
   "outputs": []
  },
  {
   "cell_type": "code",
   "execution_count": null,
   "metadata": {},
   "outputs": [],
   "source": [
    "#Generate some segments\n",
    "rng = np.random.default_rng()\n",
    "testSegment = [math.ceil(x) for x in rng.normal(15,5,size=10)]\n",
    "print(testSegment)"
   ]
  },
  {
   "cell_type": "code",
   "execution_count": null,
   "metadata": {},
   "outputs": [],
   "source": [
    "#Generate the actual data\n",
    "(truth, sampleData) = genData(testSegment, arcPrior)\n",
    "print(len(sampleData),sampleData)"
   ]
  },
  {
   "cell_type": "code",
   "execution_count": null,
   "metadata": {},
   "outputs": [],
   "source": [
    "#Bind a length prior to our data\n",
    "lengthPrior = NormalLengthPrior(mean=15,stddev=5,x=list(range(len(sampleData))),maxLength=30)"
   ]
  },
  {
   "cell_type": "code",
   "execution_count": null,
   "metadata": {},
   "outputs": [],
   "source": [
    "#Compute posterior marginals\n",
    "posteriorMarginals = runAlphaBeta(sampleData,arcPrior,lengthPrior)"
   ]
  },
  {
   "cell_type": "code",
   "execution_count": null,
   "metadata": {},
   "outputs": [],
   "source": [
    "#Display the results\n",
    "fig, ax1 = plt.subplots()\n",
    "ax1.plot(sampleData)\n",
    "ax1.plot(truth)\n",
    "#print(posteriorMarginals)\n",
    "\n",
    "#Using the guess\n",
    "ax2 = ax1.twinx()\n",
    "\n",
    "ax2.plot(posteriorMarginals, 'r')\n",
    "\n",
    "plt.show()"
   ]
  },
  {
   "cell_type": "code",
   "execution_count": null,
   "metadata": {},
   "outputs": [],
   "source": [
    "\n",
    "guesses, convol = marginal2guess(posteriorMarginals[1:],3,.5)\n",
    "ax2.plot(convol, 'g')\n",
    "ax2.vlines(guesses,ymin=0,ymax=1)\n",
    "plt.show()"
   ]
  },
  {
   "cell_type": "code",
   "execution_count": null,
   "metadata": {},
   "outputs": [],
   "source": []
  }
 ]
}